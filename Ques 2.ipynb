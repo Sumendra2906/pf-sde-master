{
 "cells": [
  {
   "cell_type": "code",
   "execution_count": 1,
   "id": "0486bc92",
   "metadata": {},
   "outputs": [],
   "source": [
    "import pandas as pd\n",
    "import json"
   ]
  },
  {
   "cell_type": "code",
   "execution_count": 2,
   "id": "a22af4aa",
   "metadata": {},
   "outputs": [],
   "source": [
    "with open(\"2-input.json\",\"r\") as read_it:\n",
    "    data = json.load(read_it)"
   ]
  },
  {
   "cell_type": "code",
   "execution_count": 3,
   "id": "9d6ae959",
   "metadata": {},
   "outputs": [
    {
     "data": {
      "text/plain": [
       "{'expenseData': [{'amount': 50, 'startDate': '2021-01-01T00:00:00.000Z'},\n",
       "  {'amount': 20, 'startDate': '2021-02-01T00:00:00.000Z'},\n",
       "  {'amount': 30, 'startDate': '2021-03-01T00:00:00.000Z'}],\n",
       " 'revenueData': [{'amount': 60, 'startDate': '2021-02-01T00:00:00.000Z'}]}"
      ]
     },
     "execution_count": 3,
     "metadata": {},
     "output_type": "execute_result"
    }
   ],
   "source": [
    "data"
   ]
  },
  {
   "cell_type": "code",
   "execution_count": 4,
   "id": "2739d94d",
   "metadata": {},
   "outputs": [],
   "source": [
    "expense = pd.DataFrame.from_dict(data['expenseData'])\n",
    "revenue = pd.DataFrame.from_dict(data['revenueData'])"
   ]
  },
  {
   "cell_type": "code",
   "execution_count": 5,
   "id": "d46ea507",
   "metadata": {},
   "outputs": [],
   "source": [
    "result = pd.merge(revenue,expense,how='outer',on=\"startDate\")"
   ]
  },
  {
   "cell_type": "code",
   "execution_count": 6,
   "id": "ed998e51",
   "metadata": {},
   "outputs": [],
   "source": [
    "result.fillna(0,inplace=True)"
   ]
  },
  {
   "cell_type": "code",
   "execution_count": 7,
   "id": "4b6de03b",
   "metadata": {},
   "outputs": [
    {
     "data": {
      "text/html": [
       "<div>\n",
       "<style scoped>\n",
       "    .dataframe tbody tr th:only-of-type {\n",
       "        vertical-align: middle;\n",
       "    }\n",
       "\n",
       "    .dataframe tbody tr th {\n",
       "        vertical-align: top;\n",
       "    }\n",
       "\n",
       "    .dataframe thead th {\n",
       "        text-align: right;\n",
       "    }\n",
       "</style>\n",
       "<table border=\"1\" class=\"dataframe\">\n",
       "  <thead>\n",
       "    <tr style=\"text-align: right;\">\n",
       "      <th></th>\n",
       "      <th>amount_x</th>\n",
       "      <th>startDate</th>\n",
       "      <th>amount_y</th>\n",
       "    </tr>\n",
       "  </thead>\n",
       "  <tbody>\n",
       "    <tr>\n",
       "      <th>0</th>\n",
       "      <td>60.0</td>\n",
       "      <td>2021-02-01T00:00:00.000Z</td>\n",
       "      <td>20</td>\n",
       "    </tr>\n",
       "    <tr>\n",
       "      <th>1</th>\n",
       "      <td>0.0</td>\n",
       "      <td>2021-01-01T00:00:00.000Z</td>\n",
       "      <td>50</td>\n",
       "    </tr>\n",
       "    <tr>\n",
       "      <th>2</th>\n",
       "      <td>0.0</td>\n",
       "      <td>2021-03-01T00:00:00.000Z</td>\n",
       "      <td>30</td>\n",
       "    </tr>\n",
       "  </tbody>\n",
       "</table>\n",
       "</div>"
      ],
      "text/plain": [
       "   amount_x                 startDate  amount_y\n",
       "0      60.0  2021-02-01T00:00:00.000Z        20\n",
       "1       0.0  2021-01-01T00:00:00.000Z        50\n",
       "2       0.0  2021-03-01T00:00:00.000Z        30"
      ]
     },
     "execution_count": 7,
     "metadata": {},
     "output_type": "execute_result"
    }
   ],
   "source": [
    "result"
   ]
  },
  {
   "cell_type": "code",
   "execution_count": 8,
   "id": "1f9baca7",
   "metadata": {},
   "outputs": [],
   "source": [
    "result[\"amount\"] = result[\"amount_x\"]-result[\"amount_y\"]"
   ]
  },
  {
   "cell_type": "code",
   "execution_count": 9,
   "id": "f0ebd2a4",
   "metadata": {},
   "outputs": [
    {
     "data": {
      "text/html": [
       "<div>\n",
       "<style scoped>\n",
       "    .dataframe tbody tr th:only-of-type {\n",
       "        vertical-align: middle;\n",
       "    }\n",
       "\n",
       "    .dataframe tbody tr th {\n",
       "        vertical-align: top;\n",
       "    }\n",
       "\n",
       "    .dataframe thead th {\n",
       "        text-align: right;\n",
       "    }\n",
       "</style>\n",
       "<table border=\"1\" class=\"dataframe\">\n",
       "  <thead>\n",
       "    <tr style=\"text-align: right;\">\n",
       "      <th></th>\n",
       "      <th>amount_x</th>\n",
       "      <th>startDate</th>\n",
       "      <th>amount_y</th>\n",
       "      <th>amount</th>\n",
       "    </tr>\n",
       "  </thead>\n",
       "  <tbody>\n",
       "    <tr>\n",
       "      <th>0</th>\n",
       "      <td>60.0</td>\n",
       "      <td>2021-02-01T00:00:00.000Z</td>\n",
       "      <td>20</td>\n",
       "      <td>40.0</td>\n",
       "    </tr>\n",
       "    <tr>\n",
       "      <th>1</th>\n",
       "      <td>0.0</td>\n",
       "      <td>2021-01-01T00:00:00.000Z</td>\n",
       "      <td>50</td>\n",
       "      <td>-50.0</td>\n",
       "    </tr>\n",
       "    <tr>\n",
       "      <th>2</th>\n",
       "      <td>0.0</td>\n",
       "      <td>2021-03-01T00:00:00.000Z</td>\n",
       "      <td>30</td>\n",
       "      <td>-30.0</td>\n",
       "    </tr>\n",
       "  </tbody>\n",
       "</table>\n",
       "</div>"
      ],
      "text/plain": [
       "   amount_x                 startDate  amount_y  amount\n",
       "0      60.0  2021-02-01T00:00:00.000Z        20    40.0\n",
       "1       0.0  2021-01-01T00:00:00.000Z        50   -50.0\n",
       "2       0.0  2021-03-01T00:00:00.000Z        30   -30.0"
      ]
     },
     "execution_count": 9,
     "metadata": {},
     "output_type": "execute_result"
    }
   ],
   "source": [
    "result"
   ]
  },
  {
   "cell_type": "code",
   "execution_count": 10,
   "id": "879bc16d",
   "metadata": {},
   "outputs": [],
   "source": [
    "result = result.groupby(\"startDate\").sum()"
   ]
  },
  {
   "cell_type": "code",
   "execution_count": 11,
   "id": "15baf977",
   "metadata": {},
   "outputs": [
    {
     "data": {
      "text/html": [
       "<div>\n",
       "<style scoped>\n",
       "    .dataframe tbody tr th:only-of-type {\n",
       "        vertical-align: middle;\n",
       "    }\n",
       "\n",
       "    .dataframe tbody tr th {\n",
       "        vertical-align: top;\n",
       "    }\n",
       "\n",
       "    .dataframe thead th {\n",
       "        text-align: right;\n",
       "    }\n",
       "</style>\n",
       "<table border=\"1\" class=\"dataframe\">\n",
       "  <thead>\n",
       "    <tr style=\"text-align: right;\">\n",
       "      <th></th>\n",
       "      <th>amount_x</th>\n",
       "      <th>amount_y</th>\n",
       "      <th>amount</th>\n",
       "    </tr>\n",
       "    <tr>\n",
       "      <th>startDate</th>\n",
       "      <th></th>\n",
       "      <th></th>\n",
       "      <th></th>\n",
       "    </tr>\n",
       "  </thead>\n",
       "  <tbody>\n",
       "    <tr>\n",
       "      <th>2021-01-01T00:00:00.000Z</th>\n",
       "      <td>0.0</td>\n",
       "      <td>50</td>\n",
       "      <td>-50.0</td>\n",
       "    </tr>\n",
       "    <tr>\n",
       "      <th>2021-02-01T00:00:00.000Z</th>\n",
       "      <td>60.0</td>\n",
       "      <td>20</td>\n",
       "      <td>40.0</td>\n",
       "    </tr>\n",
       "    <tr>\n",
       "      <th>2021-03-01T00:00:00.000Z</th>\n",
       "      <td>0.0</td>\n",
       "      <td>30</td>\n",
       "      <td>-30.0</td>\n",
       "    </tr>\n",
       "  </tbody>\n",
       "</table>\n",
       "</div>"
      ],
      "text/plain": [
       "                          amount_x  amount_y  amount\n",
       "startDate                                           \n",
       "2021-01-01T00:00:00.000Z       0.0        50   -50.0\n",
       "2021-02-01T00:00:00.000Z      60.0        20    40.0\n",
       "2021-03-01T00:00:00.000Z       0.0        30   -30.0"
      ]
     },
     "execution_count": 11,
     "metadata": {},
     "output_type": "execute_result"
    }
   ],
   "source": [
    "result"
   ]
  },
  {
   "cell_type": "code",
   "execution_count": 12,
   "id": "d4e965f8",
   "metadata": {},
   "outputs": [],
   "source": [
    "result = result.drop([\"amount_x\",\"amount_y\"],axis = 1)"
   ]
  },
  {
   "cell_type": "code",
   "execution_count": 13,
   "id": "b75221cd",
   "metadata": {},
   "outputs": [
    {
     "data": {
      "text/html": [
       "<div>\n",
       "<style scoped>\n",
       "    .dataframe tbody tr th:only-of-type {\n",
       "        vertical-align: middle;\n",
       "    }\n",
       "\n",
       "    .dataframe tbody tr th {\n",
       "        vertical-align: top;\n",
       "    }\n",
       "\n",
       "    .dataframe thead th {\n",
       "        text-align: right;\n",
       "    }\n",
       "</style>\n",
       "<table border=\"1\" class=\"dataframe\">\n",
       "  <thead>\n",
       "    <tr style=\"text-align: right;\">\n",
       "      <th></th>\n",
       "      <th>amount</th>\n",
       "    </tr>\n",
       "    <tr>\n",
       "      <th>startDate</th>\n",
       "      <th></th>\n",
       "    </tr>\n",
       "  </thead>\n",
       "  <tbody>\n",
       "    <tr>\n",
       "      <th>2021-01-01T00:00:00.000Z</th>\n",
       "      <td>-50.0</td>\n",
       "    </tr>\n",
       "    <tr>\n",
       "      <th>2021-02-01T00:00:00.000Z</th>\n",
       "      <td>40.0</td>\n",
       "    </tr>\n",
       "    <tr>\n",
       "      <th>2021-03-01T00:00:00.000Z</th>\n",
       "      <td>-30.0</td>\n",
       "    </tr>\n",
       "  </tbody>\n",
       "</table>\n",
       "</div>"
      ],
      "text/plain": [
       "                          amount\n",
       "startDate                       \n",
       "2021-01-01T00:00:00.000Z   -50.0\n",
       "2021-02-01T00:00:00.000Z    40.0\n",
       "2021-03-01T00:00:00.000Z   -30.0"
      ]
     },
     "execution_count": 13,
     "metadata": {},
     "output_type": "execute_result"
    }
   ],
   "source": [
    "result"
   ]
  },
  {
   "cell_type": "code",
   "execution_count": 14,
   "id": "93298d85",
   "metadata": {},
   "outputs": [],
   "source": [
    "result.reset_index(inplace=True)"
   ]
  },
  {
   "cell_type": "code",
   "execution_count": 15,
   "id": "a727a1a8",
   "metadata": {},
   "outputs": [],
   "source": [
    "result.to_json(r'answer2.json',orient='records')"
   ]
  },
  {
   "cell_type": "code",
   "execution_count": null,
   "id": "22f2de8b",
   "metadata": {},
   "outputs": [],
   "source": []
  }
 ],
 "metadata": {
  "kernelspec": {
   "display_name": "Python 3 (ipykernel)",
   "language": "python",
   "name": "python3"
  },
  "language_info": {
   "codemirror_mode": {
    "name": "ipython",
    "version": 3
   },
   "file_extension": ".py",
   "mimetype": "text/x-python",
   "name": "python",
   "nbconvert_exporter": "python",
   "pygments_lexer": "ipython3",
   "version": "3.8.8"
  }
 },
 "nbformat": 4,
 "nbformat_minor": 5
}
