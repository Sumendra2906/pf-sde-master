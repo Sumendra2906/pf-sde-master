{
 "cells": [
  {
   "cell_type": "code",
   "execution_count": 82,
   "id": "0486bc92",
   "metadata": {},
   "outputs": [],
   "source": [
    "import pandas as pd\n",
    "import json"
   ]
  },
  {
   "cell_type": "code",
   "execution_count": 83,
   "id": "a22af4aa",
   "metadata": {},
   "outputs": [],
   "source": [
    "with open(\"1-input.json\",\"r\") as read_it:\n",
    "    data = json.load(read_it)"
   ]
  },
  {
   "cell_type": "code",
   "execution_count": 84,
   "id": "9d6ae959",
   "metadata": {},
   "outputs": [
    {
     "data": {
      "text/plain": [
       "{'expenseData': [{'amount': 20, 'startDate': '2020-05-01T00:00:00.000Z'},\n",
       "  {'amount': 30, 'startDate': '2020-03-01T00:00:00.000Z'}],\n",
       " 'revenueData': [{'amount': 60, 'startDate': '2020-03-01T00:00:00.000Z'},\n",
       "  {'amount': 0, 'startDate': '2020-02-01T00:00:00.000Z'},\n",
       "  {'amount': 10, 'startDate': '2020-03-01T00:00:00.000Z'},\n",
       "  {'amount': 40, 'startDate': '2020-01-01T00:00:00.000Z'}]}"
      ]
     },
     "execution_count": 84,
     "metadata": {},
     "output_type": "execute_result"
    }
   ],
   "source": [
    "data"
   ]
  },
  {
   "cell_type": "code",
   "execution_count": 85,
   "id": "2739d94d",
   "metadata": {},
   "outputs": [],
   "source": [
    "expense = pd.DataFrame.from_dict(data['expenseData'])\n",
    "revenue = pd.DataFrame.from_dict(data['revenueData'])"
   ]
  },
  {
   "cell_type": "code",
   "execution_count": 104,
   "id": "d46ea507",
   "metadata": {},
   "outputs": [],
   "source": [
    "result = pd.merge(revenue,expense,how='outer',on=\"startDate\")"
   ]
  },
  {
   "cell_type": "code",
   "execution_count": 105,
   "id": "ed998e51",
   "metadata": {},
   "outputs": [],
   "source": [
    "result.fillna(0,inplace=True)"
   ]
  },
  {
   "cell_type": "code",
   "execution_count": 88,
   "id": "4b6de03b",
   "metadata": {},
   "outputs": [
    {
     "data": {
      "text/html": [
       "<div>\n",
       "<style scoped>\n",
       "    .dataframe tbody tr th:only-of-type {\n",
       "        vertical-align: middle;\n",
       "    }\n",
       "\n",
       "    .dataframe tbody tr th {\n",
       "        vertical-align: top;\n",
       "    }\n",
       "\n",
       "    .dataframe thead th {\n",
       "        text-align: right;\n",
       "    }\n",
       "</style>\n",
       "<table border=\"1\" class=\"dataframe\">\n",
       "  <thead>\n",
       "    <tr style=\"text-align: right;\">\n",
       "      <th></th>\n",
       "      <th>amount_x</th>\n",
       "      <th>startDate</th>\n",
       "      <th>amount_y</th>\n",
       "    </tr>\n",
       "  </thead>\n",
       "  <tbody>\n",
       "    <tr>\n",
       "      <th>0</th>\n",
       "      <td>60.0</td>\n",
       "      <td>2020-03-01T00:00:00.000Z</td>\n",
       "      <td>30.0</td>\n",
       "    </tr>\n",
       "    <tr>\n",
       "      <th>1</th>\n",
       "      <td>10.0</td>\n",
       "      <td>2020-03-01T00:00:00.000Z</td>\n",
       "      <td>30.0</td>\n",
       "    </tr>\n",
       "    <tr>\n",
       "      <th>2</th>\n",
       "      <td>0.0</td>\n",
       "      <td>2020-02-01T00:00:00.000Z</td>\n",
       "      <td>0.0</td>\n",
       "    </tr>\n",
       "    <tr>\n",
       "      <th>3</th>\n",
       "      <td>40.0</td>\n",
       "      <td>2020-01-01T00:00:00.000Z</td>\n",
       "      <td>0.0</td>\n",
       "    </tr>\n",
       "    <tr>\n",
       "      <th>4</th>\n",
       "      <td>0.0</td>\n",
       "      <td>2020-05-01T00:00:00.000Z</td>\n",
       "      <td>20.0</td>\n",
       "    </tr>\n",
       "  </tbody>\n",
       "</table>\n",
       "</div>"
      ],
      "text/plain": [
       "   amount_x                 startDate  amount_y\n",
       "0      60.0  2020-03-01T00:00:00.000Z      30.0\n",
       "1      10.0  2020-03-01T00:00:00.000Z      30.0\n",
       "2       0.0  2020-02-01T00:00:00.000Z       0.0\n",
       "3      40.0  2020-01-01T00:00:00.000Z       0.0\n",
       "4       0.0  2020-05-01T00:00:00.000Z      20.0"
      ]
     },
     "execution_count": 88,
     "metadata": {},
     "output_type": "execute_result"
    }
   ],
   "source": [
    "result"
   ]
  },
  {
   "cell_type": "code",
   "execution_count": 106,
   "id": "7b6daebb",
   "metadata": {},
   "outputs": [],
   "source": [
    "result[\"amount\"] = result[\"amount_x\"]-result[\"amount_y\"]"
   ]
  },
  {
   "cell_type": "code",
   "execution_count": 107,
   "id": "5d2c4f86",
   "metadata": {},
   "outputs": [
    {
     "data": {
      "text/html": [
       "<div>\n",
       "<style scoped>\n",
       "    .dataframe tbody tr th:only-of-type {\n",
       "        vertical-align: middle;\n",
       "    }\n",
       "\n",
       "    .dataframe tbody tr th {\n",
       "        vertical-align: top;\n",
       "    }\n",
       "\n",
       "    .dataframe thead th {\n",
       "        text-align: right;\n",
       "    }\n",
       "</style>\n",
       "<table border=\"1\" class=\"dataframe\">\n",
       "  <thead>\n",
       "    <tr style=\"text-align: right;\">\n",
       "      <th></th>\n",
       "      <th>amount_x</th>\n",
       "      <th>startDate</th>\n",
       "      <th>amount_y</th>\n",
       "      <th>amount</th>\n",
       "    </tr>\n",
       "  </thead>\n",
       "  <tbody>\n",
       "    <tr>\n",
       "      <th>0</th>\n",
       "      <td>60.0</td>\n",
       "      <td>2020-03-01T00:00:00.000Z</td>\n",
       "      <td>30.0</td>\n",
       "      <td>30.0</td>\n",
       "    </tr>\n",
       "    <tr>\n",
       "      <th>1</th>\n",
       "      <td>10.0</td>\n",
       "      <td>2020-03-01T00:00:00.000Z</td>\n",
       "      <td>30.0</td>\n",
       "      <td>-20.0</td>\n",
       "    </tr>\n",
       "    <tr>\n",
       "      <th>2</th>\n",
       "      <td>0.0</td>\n",
       "      <td>2020-02-01T00:00:00.000Z</td>\n",
       "      <td>0.0</td>\n",
       "      <td>0.0</td>\n",
       "    </tr>\n",
       "    <tr>\n",
       "      <th>3</th>\n",
       "      <td>40.0</td>\n",
       "      <td>2020-01-01T00:00:00.000Z</td>\n",
       "      <td>0.0</td>\n",
       "      <td>40.0</td>\n",
       "    </tr>\n",
       "    <tr>\n",
       "      <th>4</th>\n",
       "      <td>0.0</td>\n",
       "      <td>2020-05-01T00:00:00.000Z</td>\n",
       "      <td>20.0</td>\n",
       "      <td>-20.0</td>\n",
       "    </tr>\n",
       "  </tbody>\n",
       "</table>\n",
       "</div>"
      ],
      "text/plain": [
       "   amount_x                 startDate  amount_y  amount\n",
       "0      60.0  2020-03-01T00:00:00.000Z      30.0    30.0\n",
       "1      10.0  2020-03-01T00:00:00.000Z      30.0   -20.0\n",
       "2       0.0  2020-02-01T00:00:00.000Z       0.0     0.0\n",
       "3      40.0  2020-01-01T00:00:00.000Z       0.0    40.0\n",
       "4       0.0  2020-05-01T00:00:00.000Z      20.0   -20.0"
      ]
     },
     "execution_count": 107,
     "metadata": {},
     "output_type": "execute_result"
    }
   ],
   "source": [
    "result"
   ]
  },
  {
   "cell_type": "code",
   "execution_count": 109,
   "id": "c9dec93e",
   "metadata": {},
   "outputs": [],
   "source": [
    "result = result.groupby(\"startDate\").sum()"
   ]
  },
  {
   "cell_type": "code",
   "execution_count": 110,
   "id": "996df5fe",
   "metadata": {},
   "outputs": [
    {
     "data": {
      "text/html": [
       "<div>\n",
       "<style scoped>\n",
       "    .dataframe tbody tr th:only-of-type {\n",
       "        vertical-align: middle;\n",
       "    }\n",
       "\n",
       "    .dataframe tbody tr th {\n",
       "        vertical-align: top;\n",
       "    }\n",
       "\n",
       "    .dataframe thead th {\n",
       "        text-align: right;\n",
       "    }\n",
       "</style>\n",
       "<table border=\"1\" class=\"dataframe\">\n",
       "  <thead>\n",
       "    <tr style=\"text-align: right;\">\n",
       "      <th></th>\n",
       "      <th>amount_x</th>\n",
       "      <th>amount_y</th>\n",
       "      <th>amount</th>\n",
       "    </tr>\n",
       "    <tr>\n",
       "      <th>startDate</th>\n",
       "      <th></th>\n",
       "      <th></th>\n",
       "      <th></th>\n",
       "    </tr>\n",
       "  </thead>\n",
       "  <tbody>\n",
       "    <tr>\n",
       "      <th>2020-01-01T00:00:00.000Z</th>\n",
       "      <td>40.0</td>\n",
       "      <td>0.0</td>\n",
       "      <td>40.0</td>\n",
       "    </tr>\n",
       "    <tr>\n",
       "      <th>2020-02-01T00:00:00.000Z</th>\n",
       "      <td>0.0</td>\n",
       "      <td>0.0</td>\n",
       "      <td>0.0</td>\n",
       "    </tr>\n",
       "    <tr>\n",
       "      <th>2020-03-01T00:00:00.000Z</th>\n",
       "      <td>70.0</td>\n",
       "      <td>60.0</td>\n",
       "      <td>10.0</td>\n",
       "    </tr>\n",
       "    <tr>\n",
       "      <th>2020-05-01T00:00:00.000Z</th>\n",
       "      <td>0.0</td>\n",
       "      <td>20.0</td>\n",
       "      <td>-20.0</td>\n",
       "    </tr>\n",
       "  </tbody>\n",
       "</table>\n",
       "</div>"
      ],
      "text/plain": [
       "                          amount_x  amount_y  amount\n",
       "startDate                                           \n",
       "2020-01-01T00:00:00.000Z      40.0       0.0    40.0\n",
       "2020-02-01T00:00:00.000Z       0.0       0.0     0.0\n",
       "2020-03-01T00:00:00.000Z      70.0      60.0    10.0\n",
       "2020-05-01T00:00:00.000Z       0.0      20.0   -20.0"
      ]
     },
     "execution_count": 110,
     "metadata": {},
     "output_type": "execute_result"
    }
   ],
   "source": [
    "result"
   ]
  },
  {
   "cell_type": "code",
   "execution_count": 111,
   "id": "09fbfc1b",
   "metadata": {},
   "outputs": [],
   "source": [
    "result = result.drop([\"amount_x\",\"amount_y\"],axis = 1)"
   ]
  },
  {
   "cell_type": "code",
   "execution_count": 112,
   "id": "ef61b96e",
   "metadata": {},
   "outputs": [
    {
     "data": {
      "text/html": [
       "<div>\n",
       "<style scoped>\n",
       "    .dataframe tbody tr th:only-of-type {\n",
       "        vertical-align: middle;\n",
       "    }\n",
       "\n",
       "    .dataframe tbody tr th {\n",
       "        vertical-align: top;\n",
       "    }\n",
       "\n",
       "    .dataframe thead th {\n",
       "        text-align: right;\n",
       "    }\n",
       "</style>\n",
       "<table border=\"1\" class=\"dataframe\">\n",
       "  <thead>\n",
       "    <tr style=\"text-align: right;\">\n",
       "      <th></th>\n",
       "      <th>amount</th>\n",
       "    </tr>\n",
       "    <tr>\n",
       "      <th>startDate</th>\n",
       "      <th></th>\n",
       "    </tr>\n",
       "  </thead>\n",
       "  <tbody>\n",
       "    <tr>\n",
       "      <th>2020-01-01T00:00:00.000Z</th>\n",
       "      <td>40.0</td>\n",
       "    </tr>\n",
       "    <tr>\n",
       "      <th>2020-02-01T00:00:00.000Z</th>\n",
       "      <td>0.0</td>\n",
       "    </tr>\n",
       "    <tr>\n",
       "      <th>2020-03-01T00:00:00.000Z</th>\n",
       "      <td>10.0</td>\n",
       "    </tr>\n",
       "    <tr>\n",
       "      <th>2020-05-01T00:00:00.000Z</th>\n",
       "      <td>-20.0</td>\n",
       "    </tr>\n",
       "  </tbody>\n",
       "</table>\n",
       "</div>"
      ],
      "text/plain": [
       "                          amount\n",
       "startDate                       \n",
       "2020-01-01T00:00:00.000Z    40.0\n",
       "2020-02-01T00:00:00.000Z     0.0\n",
       "2020-03-01T00:00:00.000Z    10.0\n",
       "2020-05-01T00:00:00.000Z   -20.0"
      ]
     },
     "execution_count": 112,
     "metadata": {},
     "output_type": "execute_result"
    }
   ],
   "source": [
    "result"
   ]
  },
  {
   "cell_type": "code",
   "execution_count": 113,
   "id": "4310f7f1",
   "metadata": {},
   "outputs": [],
   "source": [
    "result.reset_index(inplace=True)"
   ]
  },
  {
   "cell_type": "code",
   "execution_count": 123,
   "id": "0623c0d9",
   "metadata": {},
   "outputs": [],
   "source": [
    "result.to_json(r'answer1.json',orient='records')"
   ]
  },
  {
   "cell_type": "code",
   "execution_count": null,
   "id": "a86921c8",
   "metadata": {},
   "outputs": [],
   "source": []
  }
 ],
 "metadata": {
  "kernelspec": {
   "display_name": "Python 3 (ipykernel)",
   "language": "python",
   "name": "python3"
  },
  "language_info": {
   "codemirror_mode": {
    "name": "ipython",
    "version": 3
   },
   "file_extension": ".py",
   "mimetype": "text/x-python",
   "name": "python",
   "nbconvert_exporter": "python",
   "pygments_lexer": "ipython3",
   "version": "3.8.8"
  }
 },
 "nbformat": 4,
 "nbformat_minor": 5
}
